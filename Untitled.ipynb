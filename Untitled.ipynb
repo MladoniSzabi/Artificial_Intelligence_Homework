{
 "cells": [
  {
   "cell_type": "markdown",
   "id": "db0850a4",
   "metadata": {},
   "source": [
    "# Search based method for level generation"
   ]
  },
  {
   "cell_type": "markdown",
   "id": "7f9e8336",
   "metadata": {},
   "source": [
    "This project will explain how to use a search based method (specifically evolutionary search) to generate levels for a dungeon crawler. It will explain the core parts of the search based method along with how different content representations effect the outcome of the search.\n",
    "\n",
    "This tutorial is based on the second chapter of the book: Procedural Content Generation in Games (https://www.pcgbook.com/chapter02.pdf)\n",
    "\n",
    "#### Important: At some parts of the tutorial, you will be given two versions of the same functions: one for a direct representation (first) and one for a more indirect (second) representation. It is important that you only run the block for one of these functions and that you don't mix them. If you want to switch between them, you have to go back and run the other block for each block.\n",
    "\n",
    "#### The functions you have to make a choice for are the evaluation and the mutation functions."
   ]
  },
  {
   "cell_type": "markdown",
   "id": "88bf9cec",
   "metadata": {},
   "source": [
    "## Key parts of the search based method:"
   ]
  },
  {
   "cell_type": "markdown",
   "id": "32e7d0bf",
   "metadata": {},
   "source": [
    "The key components of the search based method are:\n",
    "1. the algorithm\n",
    "2. content representation\n",
    "3. the evaluation function\n",
    "4. the mutation function"
   ]
  },
  {
   "cell_type": "markdown",
   "id": "44e09c1e",
   "metadata": {},
   "source": [
    "## The algorithm"
   ]
  },
  {
   "cell_type": "markdown",
   "id": "7da18520",
   "metadata": {},
   "source": [
    "The algorithm is at the core (the book referes to it as the \"engine\") of the method. Its job is simple:\n",
    "1. expand the next level of the search tree (partly) by mutating existing levels.\n",
    "2. evaluate the new levels.\n",
    "3. compare the new levels and the old ones together.\n",
    "4. keep the best ones and discard the rest.\n",
    "   \n",
    "Let's take a look:"
   ]
  },
  {
   "cell_type": "code",
   "execution_count": 80,
   "id": "0c64a53d",
   "metadata": {
    "scrolled": true
   },
   "outputs": [],
   "source": [
    "from collections import deque\n",
    "import math\n",
    "import random\n",
    "import heapq\n",
    "\n",
    "LEVEL_SIZE = 50\n",
    "\n",
    "def main():\n",
    "\n",
    "    # Constants for exploration\n",
    "    ITERATIONS = 30          # No. of iterations the algorithm will run for\n",
    "    MUTATIONS_PER_LEVEL = 6  # How many new levels to generate for each existing level\n",
    "    CONSIDERED_LEVELS = 10   # How many levels to keep at the end of an iteration\n",
    "    \n",
    "    # Create an array to store our levels and add the initial level\n",
    "    curr_levels = [getEmptyLevel()]\n",
    "    print_level(curr_levels[0])\n",
    "    \n",
    "    # The core of the algorithm\n",
    "    for _ in range(ITERATIONS):\n",
    "        score = []\n",
    "        \n",
    "        # Create new levels by from mutating existing ones\n",
    "        for level in curr_levels:\n",
    "            possibilities = [mutate_level(level) for _ in range(MUTATIONS_PER_LEVEL)]\n",
    "            # Keep the level and its score\n",
    "            score += [(evaluate(possibility), possibility) for possibility in possibilities]\n",
    "        # Add the levels from the previous iteration\n",
    "        score += [(evaluate(level), level) for level in curr_levels]\n",
    "        # Shuffle the levels \n",
    "        random.shuffle(score)\n",
    "        # Sort the levels by score, from highest to lowest\n",
    "        score.sort(reverse=True)\n",
    "        # Discard weak levels\n",
    "        curr_levels = [score_pair[1] for score_pair in score[:CONSIDERED_LEVELS]]\n",
    "\n",
    "        print_level(curr_levels[0])"
   ]
  },
  {
   "cell_type": "markdown",
   "id": "15f61d7a",
   "metadata": {},
   "source": [
    "There are several parameters that can be tweaked here: the number of iterations, how many nodes of the next level to explore and how many nodes nodes to keep between iterations.\n",
    "\n",
    "Here are a few things to take into consideration when changing the constants in the code:\n",
    "\n",
    " -  The larger the number of iterations, the more likely it is that you will find a good level, however this will increase the search time. Also, after a few iterations the algorithm might already have converged to a good enough solutions so having too many iterations may proove unnecessary.<br><br>\n",
    "  \n",
    " - Inreasing the number of nodes between iterations will increase search time, since these nodes will need to be expanded in the future, however, not keeping enough nodes limits the amount of exploration the algorithm can do and it can converge to a less optimal solution<br><br>\n",
    " \n",
    " - Increasing the number of nodes to explore each iteration will increase search time, however the algorithm will also converge quicker.<br><br>\n",
    " \n",
    " - These parameters affect each other so keeping a good balance between them is crucial, however the only way to find this balance is through experimentation."
   ]
  },
  {
   "cell_type": "markdown",
   "id": "45b13e42",
   "metadata": {},
   "source": [
    "## Content representation"
   ]
  },
  {
   "cell_type": "markdown",
   "id": "53863c05",
   "metadata": {},
   "source": [
    "Content representation refers to how the level is encoded. Content can be represented on a scale from direct to indirect.\n",
    "For example a direct representation would be a matrix where each element of the matrix represents the content of the level at that position (eg. is it a wall, door, empty space, ...) and an indirect representation would be storing a collection of rooms, each with its own positions and sizes.\n",
    "\n",
    "There are many more possible representations, for example one can encode a level as the positions of manually created rooms (not random like the ones mentioned above) or as a random seed.\n",
    "\n",
    "Here are two examples in code:"
   ]
  },
  {
   "cell_type": "code",
   "execution_count": 3,
   "id": "59a3e54f",
   "metadata": {
    "scrolled": true
   },
   "outputs": [],
   "source": [
    "# Direct content representation:\n",
    "# 2 dimensional level (50x50) where each element is in the range [0,6]\n",
    "\n",
    "class Cells:\n",
    "    EMPTY = 0\n",
    "    WALL = 1\n",
    "    DOOR = 2\n",
    "    ENEMY = 3\n",
    "    TREASURE = 4\n",
    "    START = 5\n",
    "    END = 6\n",
    "\n",
    "def getEmptyLevel():\n",
    "    level = [ [0] * LEVEL_SIZE for _ in range(LEVEL_SIZE)]\n",
    "    level[2][2] = Cells.START\n",
    "    level[LEVEL_SIZE - 2][LEVEL_SIZE - 2] = Cells.END\n",
    "    return level"
   ]
  },
  {
   "cell_type": "code",
   "execution_count": 24,
   "id": "8b2e25e1",
   "metadata": {
    "scrolled": true
   },
   "outputs": [],
   "source": [
    "# Indirect content representation:\n",
    "# List of rooms\n",
    "\n",
    "class Room:\n",
    "    def __init__(self, x, y, width, height):\n",
    "        self.x = x\n",
    "        self.y = y\n",
    "        self.width = width\n",
    "        self.height = height\n",
    "\n",
    "def getEmptyLevel():\n",
    "    return []"
   ]
  },
  {
   "cell_type": "markdown",
   "id": "29f54277",
   "metadata": {},
   "source": [
    "Usually the more direct the representation the larger the search space, but it can result in more creative levels that are not confined by the assumptions made by the more indirect representations.\n",
    "\n",
    "#### Make sure you only run one of these two blocks."
   ]
  },
  {
   "cell_type": "markdown",
   "id": "e84785c9",
   "metadata": {},
   "source": [
    "## Evaluation function"
   ]
  },
  {
   "cell_type": "markdown",
   "id": "a210d8e1",
   "metadata": {},
   "source": [
    "The evaluation function takes an instance of a level and returns parameters that are used to compare level instances between them. Some examples of characteristics that could be considered would be: difficulty( which could be measured as no. of enemies per room) or explorability (which could be measured as no. of rooms).\n",
    "\n",
    "The evaluation function is tied to the content representation, since if the level is represented in a different format, the evaluation function won't know how to interpret it.\n",
    "\n",
    "For the direct content representation, an ideal number of walls, enemies and treasures has been defined. The number of enemies will dictate how difficult the level will be whereas the number of treasures can incentivise exploration. Another factor that will be measured will be the distance from the start to the end. The larger the distance the more the player will have to explore and if the distance is infinite, then it is impossible to finish the level so it should score lower.\n",
    "\n",
    "A couple helper functions have been defined: the first one is used to get valid neighbouring cells and the second one is the A* algorithm. These function will not be explained as they are outside the scope of this tutorial."
   ]
  },
  {
   "cell_type": "code",
   "execution_count": 4,
   "id": "236e083a",
   "metadata": {
    "scrolled": true
   },
   "outputs": [],
   "source": [
    "def get_neighbours(cell):\n",
    "    \"\"\"\n",
    "        Returns the cells the player can legally move to from the given position\n",
    "    \"\"\"\n",
    "    DIRECTIONS = [(1,0), (-1,0), (0,1), (0,-1)]\n",
    "    retval = []\n",
    "    for direction in DIRECTIONS:\n",
    "        next_cell = (cell[0] + direction[0], cell[1] + direction[1])\n",
    "\n",
    "        if next_cell[0] < 0 or next_cell[0] >= LEVEL_SIZE:\n",
    "            continue\n",
    "        if next_cell[1] < 0 or next_cell[1] >= LEVEL_SIZE:\n",
    "            continue\n",
    "            \n",
    "        retval.append(next_cell)\n",
    "    return retval"
   ]
  },
  {
   "cell_type": "code",
   "execution_count": 5,
   "id": "eabd0d36",
   "metadata": {
    "scrolled": true
   },
   "outputs": [],
   "source": [
    "def astar(level, start, destination):\n",
    "    \"\"\"\n",
    "        Returns the path from the start cell to the destination cell if it exists\n",
    "        Uses the A* algorithm\n",
    "    \"\"\"\n",
    "\n",
    "    # Since the player can only move in 4 directions, the Manhattan distance is enough\n",
    "    # instead of the Euclidian cheaper.\n",
    "    def heuristic(start, destination):\n",
    "        return abs(start[0] - destination[0]) + abs(start[1] - destination[1])\n",
    "\n",
    "    # Holds the cells where we came from.\n",
    "    previous_cells = {}\n",
    "\n",
    "    # Holds cells we have already visited\n",
    "    visited = set()\n",
    "\n",
    "    # Holds cells we need to visit (f(node) - estimated distance, g(node) - distance so far, prev_node - position we came from, node - current position)\n",
    "    queue = []\n",
    "    heapq.heappush(queue, (0, 0, start, start))\n",
    "\n",
    "    while queue:\n",
    "        estimated_distance, distance_travelled, previous_cell, cell = heapq.heappop(queue)\n",
    "\n",
    "        previous_cells[cell] = previous_cell\n",
    "\n",
    "        if cell in visited:\n",
    "            continue\n",
    "\n",
    "        if cell == destination:\n",
    "            break\n",
    "\n",
    "        visited.add(cell)\n",
    "\n",
    "        neighbours = get_neighbours(cell)\n",
    "        for next_cell in neighbours:\n",
    "            if next_cell in visited:\n",
    "                continue\n",
    "            \n",
    "            if level[next_cell[1]][next_cell[0]] in [Cells.WALL, Cells.TREASURE, Cells.DOOR]:\n",
    "                continue\n",
    "                \n",
    "            heapq.heappush(queue, (heuristic(next_cell, destination) + distance_travelled + 1, distance_travelled + 1, cell, next_cell))\n",
    "\n",
    "    if destination not in previous_cells:\n",
    "        return []\n",
    "\n",
    "    # Construct path from start to destination\n",
    "\n",
    "    path = []\n",
    "    curr_pos = destination\n",
    "    while curr_pos != start:\n",
    "        path.append(curr_pos)\n",
    "        curr_pos = previous_cells[curr_pos]\n",
    "    \n",
    "    return path"
   ]
  },
  {
   "cell_type": "markdown",
   "id": "21315109",
   "metadata": {},
   "source": [
    "Here is the code for the evaluation function for the direct representation:"
   ]
  },
  {
   "cell_type": "code",
   "execution_count": 6,
   "id": "e9d18976",
   "metadata": {
    "scrolled": true
   },
   "outputs": [],
   "source": [
    "def evaluate(level):\n",
    "    \n",
    "    # We don't want to create too many walls as this will make some areas inaccesible and it also looks ugly\n",
    "    IDEAL_WALL_COUNT = 600\n",
    "    # How many treasures do we want per level (on average)\n",
    "    IDEAL_TREASURE_COUNT = 5\n",
    "    # How many enemies do we want per level (on average)\n",
    "    IDEAL_ENEMY_COUNT = 10\n",
    "\n",
    "    start_pos = None\n",
    "    end_pos = None\n",
    "    enemies = []\n",
    "    treasures = []\n",
    "    wall_count = 0\n",
    "\n",
    "    # Go through each cell in the level and count how many instances of each cell type do we have\n",
    "    for y in range(len(level)):\n",
    "        for x in range(len(level[y])):\n",
    "            \n",
    "            if level[y][x] == Cells.ENEMY:\n",
    "                    enemies.append((x,y))\n",
    "            elif level[y][x] == Cells.TREASURE:\n",
    "                    treasures.append((x,y))\n",
    "            elif level[y][x] == Cells.START:\n",
    "                    start_pos = (x,y)\n",
    "            elif level[y][x] == Cells.END:\n",
    "                    end_pos = (x,y)\n",
    "            elif level[y][x] == Cells.WALL:\n",
    "                    wall_count += 1\n",
    "    \n",
    "    # Find the path to the exit\n",
    "    path_to_victory = astar(level, start_pos, end_pos)\n",
    "\n",
    "    # Calculate our hieuristic\n",
    "    return len(path_to_victory) - \\\n",
    "            abs(IDEAL_WALL_COUNT - wall_count) - \\\n",
    "            abs((IDEAL_ENEMY_COUNT - len(enemies)) ** 2) - \\\n",
    "            abs((IDEAL_TREASURE_COUNT - len(treasures)) ** 2)"
   ]
  },
  {
   "cell_type": "markdown",
   "id": "b284bdb8",
   "metadata": {},
   "source": [
    "Some things to note:\n",
    " - We have set a limit on how many walls we want per level. This is to stop the algorithm from filling up the entire level, making some treasures and enemies inaccesible and greatly reducing explorability.<br><br>\n",
    " - The constants above have been found through experimentation<br><br>\n",
    " - The difference in the enemies and treasures has been raised to the power of two. This is to stop the algorithm from generating too many enemies but compensating for it by generating fewer treasures. Also it is acceptable to have one extra or fewer enemy, but if the algorithm tries to deviate too much from the ideal we want to punish it harder.<br><br>\n",
    " - The number of walls has NOT been raised to the power of two. This is because we can be more leniant on how many walls are generated and it will not interfere with the other two metrics since both have been raised to the power of two."
   ]
  },
  {
   "cell_type": "markdown",
   "id": "82fd63ed",
   "metadata": {},
   "source": [
    "For the indirect representation, we have set the number of rooms we want and the density of enemies and treasures we want per level."
   ]
  },
  {
   "cell_type": "code",
   "execution_count": null,
   "id": "08a577a0",
   "metadata": {
    "scrolled": true
   },
   "outputs": [],
   "source": [
    "# https://www.jeffreythompson.org/collision-detection/rect-rect.php\n",
    "def are_rooms_colliding(room1, room2):\n",
    "    if room1.x <= room2.x + room2.width and \\\n",
    "        room1.x + room1.width >= room2.x and \\\n",
    "        room1.y <= room2.y + room2.height and \\\n",
    "        room1.y + room1.height >= room2.y:\n",
    "\n",
    "        return True\n",
    "    return False\n",
    "\n",
    "def density_error_function(ideal, actual):\n",
    "        return 3*(math.exp(abs(ideal - actual)*10)-1)\n",
    "\n",
    "def evaluate(level):\n",
    "\n",
    "    if len(level) == 0:\n",
    "        return (9999,)\n",
    "\n",
    "    IDEAL_NO_OF_ROOMS = 9999    # Create as many rooms as you can\n",
    "    IDEAL_ENEMY_DENSITY = 1/(5*5)       # What fraction of a room should be enemies (one enemy in a 5x5 block on average)\n",
    "    IDEAL_TREASURE_DENSITY = 0.5/(5*5)  # What fraction of a room should be covered in treasure chests (one treasure in every second 5x5 block)\n",
    "\n",
    "    # Rooms that are overlapping will not be counted\n",
    "    no_of_rooms = len(level)\n",
    "    enemy_density = 0\n",
    "    treasure_density = 0\n",
    "\n",
    "    for room_index, room in enumerate(level):\n",
    "\n",
    "        for other_room in level[(room_index+1):]:\n",
    "            if are_rooms_colliding(room, other_room):\n",
    "                no_of_rooms -= 2\n",
    "                break\n",
    "        \n",
    "        # TODO: this does not take into consideration overlapping rooms\n",
    "        enemy_density += density_error_function(IDEAL_ENEMY_DENSITY, room.enemies / (room.width * room.height))\n",
    "        treasure_density += density_error_function(IDEAL_TREASURE_DENSITY, room.treasures / (room.width * room.height))\n",
    "\n",
    "    room_count_error = abs(IDEAL_NO_OF_ROOMS - max(no_of_rooms, 0)*4)\n",
    "\n",
    "    return 9999 - (room_count_error + enemy_density / len(level) + treasure_density / len(level))\n"
   ]
  },
  {
   "cell_type": "markdown",
   "id": "acd2266f",
   "metadata": {},
   "source": [
    "The function called \"density error function\" is used to calculate the error for the two dnsities. We calculate the absolute value of the difference and we pass it through an exponential function. This is to punish the algorithm harder for deviating too much from the ideal densities. The constants the expression is being multiplied by were found through experimentation and are used to punish the algorithm more.\n",
    "\n",
    "We also punish the algorithm for placing rooms on top of each other. Instead of just punishing the algorithm for stacking levels, one could try to merge these rooms to create more interesting shapes, however this is left as an optional exercise to the reader.\n",
    "\n",
    "#### Make sure you only run the block for one of the evaluation functions."
   ]
  },
  {
   "cell_type": "markdown",
   "id": "33db2902",
   "metadata": {},
   "source": [
    "## Mutation function"
   ]
  },
  {
   "cell_type": "markdown",
   "id": "090a6044",
   "metadata": {},
   "source": [
    "The mutation function is responsible for creating variations in the levels. It is important that these variations are not too dramatic and that a mutation does not change its evaluation too much as this can effect the search algorithms ability to find a solution at all.\n",
    "\n",
    "### Direct Representation\n",
    "To mutate a level the book suggests creating a random 50x50 matrix, with each element taken from the N(0,1) distribution, however I chose to use a different approach, for more fine-grained control. Originally, this was intended to guide the mutation function to create structures that look like rooms, however this seemed to not work, instead it is now used to create layouts that seem like cave.\n",
    "\n",
    "There is a certain (predefined) probability, that a cell turns into a different one, just like in the book, however, the most notable difference is that these probabilities do not have to be the same and they can be adjusted, and that it is more likely that the mutation places a wall next to another wall, creating clusters and a more natural cave. "
   ]
  },
  {
   "cell_type": "code",
   "execution_count": 15,
   "id": "aba031f2",
   "metadata": {
    "scrolled": true
   },
   "outputs": [],
   "source": [
    "def mutate_level(level):\n",
    "    new_level = [ [0] * LEVEL_SIZE for _ in range(LEVEL_SIZE)]\n",
    "\n",
    "    PROBABILITY = {\n",
    "        \"empty_to_wall_no_neighbour\": 0.001,\n",
    "        \"empty_to_wall_with_neighbour\": 0.1,\n",
    "        \"empty_to_treasure\": 0.0005,\n",
    "        \"empty_to_enemy\": 0.0005,\n",
    "        \"wall_to_empty\": 0.0005,\n",
    "        \"enemy_to_empty\": 0.0005,\n",
    "        \"treasure_to_empty\": 0.0005\n",
    "    }\n",
    "    \n",
    "    for y in range(len(level)):\n",
    "        for x in range(len(level[y])):\n",
    "            cell = level[y][x]\n",
    "\n",
    "            new_level[y][x] = cell\n",
    "            \n",
    "            if cell == Cells.EMPTY:\n",
    "                wall_neighbour_count = 0\n",
    "\n",
    "                for neighbour in get_neighbours((x,y)):\n",
    "                    if level[neighbour[1]][neighbour[0]] == Cells.WALL:\n",
    "                        wall_neighbour_count += 1\n",
    "\n",
    "                if wall_neighbour_count == 0:\n",
    "                    if random.random() < PROBABILITY[\"empty_to_wall_no_neighbour\"]:\n",
    "                        new_level[y][x] = Cells.WALL\n",
    "                else:\n",
    "                    if random.random() < PROBABILITY[\"empty_to_wall_with_neighbour\"]:\n",
    "                        new_level[y][x] = Cells.WALL\n",
    "                \n",
    "                # If the empty space has not turned into a wall,\n",
    "                # try turning it into treasure or an enemy\n",
    "                if new_level[y][x] == Cells.EMPTY:\n",
    "                    if random.random() < PROBABILITY[\"empty_to_treasure\"]:\n",
    "                        new_level[y][x] = Cells.TREASURE\n",
    "                    \n",
    "                    elif random.random() < PROBABILITY[\"empty_to_enemy\"]:\n",
    "                        new_level[y][x] = Cells.ENEMY\n",
    "\n",
    "            \n",
    "            if cell == Cells.WALL:\n",
    "                if random.random() < PROBABILITY[\"wall_to_empty\"]:\n",
    "                    new_level[y][x] = Cells.EMPTY\n",
    "            \n",
    "            if cell == Cells.ENEMY:\n",
    "                if random.random() < PROBABILITY[\"enemy_to_empty\"]:\n",
    "                    new_level[y][x] = Cells.EMPTY\n",
    "            \n",
    "            if cell == Cells.TREASURE:\n",
    "                if random.random() < PROBABILITY[\"treasure_to_empty\"]:\n",
    "                    new_level[y][x] = Cells.EMPTY\n",
    "\n",
    "    return new_level"
   ]
  },
  {
   "cell_type": "markdown",
   "id": "c611b5e2",
   "metadata": {},
   "source": [
    "This function simply adds or subtracts 1 from the position and dimensions of existing rooms randomly, and sometimes completely deletes or generates new rooms.\n",
    "\n",
    "The biggest headache with this mutation function was keeping the room in the map. All the min and max function make the code less readable, however they are essential in keeping the rooms inside the map."
   ]
  },
  {
   "cell_type": "code",
   "execution_count": null,
   "id": "fd76c9ce",
   "metadata": {
    "scrolled": true
   },
   "outputs": [],
   "source": [
    "def mutate_level(level):\n",
    "    new_level = []\n",
    "    for room in level:\n",
    "        # Random chance to delete this level\n",
    "        if random.random() < 0.05:\n",
    "            continue\n",
    "\n",
    "        room.x = min(max(0, room.x + random.randint(-1,1)), LEVEL_SIZE - 5)\n",
    "        room.y = min(max(0, room.y + random.randint(-1,1)), LEVEL_SIZE - 5)\n",
    "        room.width = max(min(room.width + random.randint(-1,1), LEVEL_SIZE - room.x), 5)\n",
    "        room.height = max(min(room.height + random.randint(-1,1), LEVEL_SIZE - room.y), 5)\n",
    "\n",
    "        enemies_copy = room.enemies\n",
    "        treasures_copy = room.treasures\n",
    "\n",
    "        room.enemies = max(0, room.enemies + random.randint(-2, 2))\n",
    "        room.treasures = max(0, room.treasures + random.randint(-2, 2))\n",
    "\n",
    "        # Do not add new enemies or treasures if there is no more space left in the room\n",
    "        if (room.enemies + room.treasures) >= ( (room.width-2) * (room.height-2) / 2):\n",
    "            room.enemies = enemies_copy\n",
    "            room.treasures = treasures_copy\n",
    "\n",
    "        new_level.append(room)\n",
    "    \n",
    "    # Random chance to add new levels\n",
    "    if random.random() < 0.1:\n",
    "        width = random.randint(4,10)\n",
    "        height = random.randint(4,10)\n",
    "        enemies = random.randint(0, max(5,  int((width-2) * (height-2) / 4)))\n",
    "        treasures = random.randint(0, max(1, int((width-2) * (height-2) / 4)))\n",
    "        new_level.append(Room(\n",
    "            random.randint(0,40),     # x\n",
    "            random.randint(0,40),     # y\n",
    "            width,                    # width\n",
    "            height,                   # height\n",
    "            enemies,                  # enemies\n",
    "            treasures                 # treasures\n",
    "        ))\n",
    "    \n",
    "    return new_level"
   ]
  },
  {
   "cell_type": "markdown",
   "id": "4df64784",
   "metadata": {},
   "source": [
    "## The result"
   ]
  },
  {
   "cell_type": "code",
   "execution_count": 162,
   "id": "5d958c53",
   "metadata": {
    "scrolled": true
   },
   "outputs": [],
   "source": [
    "import numpy as np\n",
    "import matplotlib.pyplot as plt\n",
    "import matplotlib.patches as mpatches\n",
    "from IPython.display import display, update_display\n",
    "\n",
    "CELL_REPRESENTATION = np.asarray([\n",
    "    (240, 240, 240),\n",
    "    (10, 10, 10),\n",
    "    (0, 0, 0),\n",
    "    (125, 63, 8),\n",
    "    (175, 21, 21),\n",
    "    (231, 218, 34),\n",
    "    (130, 34, 231),\n",
    "    (34, 231, 51)\n",
    "])\n",
    "\n",
    "labels =[\n",
    "    mpatches.Patch(color='black', label='Wall'),\n",
    "    mpatches.Patch(color='white', label='Empty'),\n",
    "    mpatches.Patch(color='yellow', label='Start'),\n",
    "    mpatches.Patch(color='purple', label='End'),\n",
    "    mpatches.Patch(color='red', label='Enemy'),\n",
    "    mpatches.Patch(color='brown', label='Treasure'),\n",
    "]\n",
    "\n",
    "def print_level(level):\n",
    "    img = CELL_REPRESENTATION[np.asarray(level)]\n",
    "    im = plt.imshow(img)\n",
    "    red_patch = mpatches.Patch(color='red', label='The red data')\n",
    "    plt.legend(handles=labels, bbox_to_anchor=(1.4, 1))\n",
    "    \n",
    "    update_display(im.figure, display_id=1)"
   ]
  },
  {
   "cell_type": "code",
   "execution_count": 166,
   "id": "df57ccd5",
   "metadata": {
    "scrolled": false
   },
   "outputs": [
    {
     "data": {
      "image/png": "[encoded data removed]",
      "text/plain": [
       "<Figure size 640x480 with 1 Axes>"
      ]
     },
     "metadata": {},
     "output_type": "display_data"
    },
    {
     "data": {
      "image/png": "[encoded data removed]",
      "text/plain": [
       "<Figure size 640x480 with 1 Axes>"
      ]
     },
     "metadata": {},
     "output_type": "display_data"
    }
   ],
   "source": [
    "display([], display_id=1)\n",
    "main()"
   ]
  },
  {
   "cell_type": "code",
   "execution_count": null,
   "id": "5656752c",
   "metadata": {
    "scrolled": true
   },
   "outputs": [],
   "source": []
  }
 ],
 "metadata": {
  "kernelspec": {
   "display_name": "Python 3 (ipykernel)",
   "language": "python",
   "name": "python3"
  },
  "language_info": {
   "codemirror_mode": {
    "name": "ipython",
    "version": 3
   },
   "file_extension": ".py",
   "mimetype": "text/x-python",
   "name": "python",
   "nbconvert_exporter": "python",
   "pygments_lexer": "ipython3",
   "version": "3.9.18"
  }
 },
 "nbformat": 4,
 "nbformat_minor": 5
}
