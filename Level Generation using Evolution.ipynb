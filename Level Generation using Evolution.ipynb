{
 "cells": [
  {
   "cell_type": "markdown",
   "id": "db0850a4",
   "metadata": {},
   "source": [
    "# Search based method for level generation"
   ]
  },
  {
   "cell_type": "markdown",
   "id": "7f9e8336",
   "metadata": {},
   "source": [
    "This project will explain how to use a search based method (specifically evolutionary search) to generate levels for a dungeon crawler. It will explain the core parts of the search based method along with how different content representations effect the outcome of the search.\n",
    "\n",
    "This tutorial is based on the second chapter of the book: Procedural Content Generation in Games (https://www.pcgbook.com/chapter02.pdf)"
   ]
  },
  {
   "cell_type": "markdown",
   "id": "88bf9cec",
   "metadata": {},
   "source": [
    "## Key parts of the search based method:"
   ]
  },
  {
   "cell_type": "markdown",
   "id": "32e7d0bf",
   "metadata": {},
   "source": [
    "The key components of the search based method are:\n",
    "1. the algorithm\n",
    "2. content representation\n",
    "3. the evaluation function\n",
    "4. the mutation function"
   ]
  },
  {
   "cell_type": "markdown",
   "id": "44e09c1e",
   "metadata": {},
   "source": [
    "## The algorithm"
   ]
  },
  {
   "cell_type": "markdown",
   "id": "7da18520",
   "metadata": {},
   "source": [
    "The algorithm is at the core (the book referes to it as the \"engine\") of the method. Its job is simple:\n",
    "1. expand the next level of the search tree (partly) by mutating existing levels.\n",
    "2. evaluate the new levels.\n",
    "3. compare the new levels and the old ones together.\n",
    "4. keep the best ones and discard the rest.\n",
    "   \n",
    "Let's take a look:"
   ]
  },
  {
   "cell_type": "code",
   "execution_count": 43,
   "id": "fa175bbc",
   "metadata": {},
   "outputs": [],
   "source": [
    "import math\n",
    "import random\n",
    "import heapq\n",
    "import numpy as np\n",
    "import matplotlib.pyplot as plt\n",
    "import matplotlib.patches as mpatches\n",
    "from IPython.display import display, update_display"
   ]
  },
  {
   "cell_type": "code",
   "execution_count": 57,
   "id": "0c64a53d",
   "metadata": {
    "scrolled": true
   },
   "outputs": [],
   "source": [
    "LEVEL_SIZE = 50\n",
    "\n",
    "def main(get_empty_level, mutate_level, evaluate, print_level):\n",
    "\n",
    "    # Constants for exploration\n",
    "    ITERATIONS = 30          # No. of iterations the algorithm will run for\n",
    "    MUTATIONS_PER_LEVEL = 6  # How many new levels to generate for each existing level\n",
    "    CONSIDERED_LEVELS = 10   # How many levels to keep at the end of an iteration\n",
    "    \n",
    "    # Create an array to store our levels and add the initial level\n",
    "    curr_levels = [get_empty_level()]\n",
    "    print_level(curr_levels[0])\n",
    "    \n",
    "    # The core of the algorithm\n",
    "    for _ in range(ITERATIONS):\n",
    "        score = []\n",
    "        \n",
    "        # Create new levels by from mutating existing ones\n",
    "        for level in curr_levels:\n",
    "            possibilities = [mutate_level(level) for _ in range(MUTATIONS_PER_LEVEL)]\n",
    "            # Keep the level and its score\n",
    "            score += [(evaluate(possibility), possibility) for possibility in possibilities]\n",
    "        # Add the levels from the previous iteration\n",
    "        score += [(evaluate(level), level) for level in curr_levels]\n",
    "        # Shuffle the levels \n",
    "        random.shuffle(score)\n",
    "        # Sort the levels by score, from highest to lowest\n",
    "        score.sort(reverse=True, key=lambda x: x[0])\n",
    "        # Discard weak levels\n",
    "        curr_levels = [score_pair[1] for score_pair in score[:CONSIDERED_LEVELS]]\n",
    "\n",
    "        print_level(curr_levels[0])"
   ]
  },
  {
   "cell_type": "markdown",
   "id": "15f61d7a",
   "metadata": {},
   "source": [
    "There are several parameters that can be tweaked here: the number of iterations, how many nodes of the next level to explore and how many nodes nodes to keep between iterations.\n",
    "\n",
    "Here are a few things to take into consideration when changing the constants in the code:\n",
    "\n",
    " -  The larger the number of iterations, the more likely it is that you will find a good level, however this will increase the search time. Also, after a few iterations the algorithm might already have converged to a good enough solutions so having too many iterations may proove unnecessary.<br><br>\n",
    "  \n",
    " - Inreasing the number of nodes between iterations will increase search time, since these nodes will need to be expanded in the future, however, not keeping enough nodes limits the amount of exploration the algorithm can do and it can converge to a less optimal solution<br><br>\n",
    " \n",
    " - Increasing the number of nodes to explore each iteration will increase search time, however the algorithm will also converge quicker.<br><br>\n",
    " \n",
    " - These parameters affect each other so keeping a good balance between them is crucial, however the only way to find this balance is through experimentation."
   ]
  },
  {
   "cell_type": "markdown",
   "id": "45b13e42",
   "metadata": {},
   "source": [
    "## Content representation"
   ]
  },
  {
   "cell_type": "markdown",
   "id": "53863c05",
   "metadata": {},
   "source": [
    "Content representation refers to how the level is encoded. Content can be represented on a scale from direct to indirect.\n",
    "For example a direct representation would be a matrix where each element of the matrix represents the content of the level at that position (eg. is it a wall, door, empty space, ...) and an indirect representation would be storing a collection of rooms, each with its own positions and sizes.\n",
    "\n",
    "There are many more possible representations, for example one can encode a level as the positions of manually created rooms (not random like the ones mentioned above) or as a random seed.\n",
    "\n",
    "Here are two examples in code:"
   ]
  },
  {
   "cell_type": "code",
   "execution_count": 45,
   "id": "59a3e54f",
   "metadata": {
    "scrolled": true
   },
   "outputs": [],
   "source": [
    "# Direct content representation:\n",
    "# 2 dimensional level (50x50) where each element is in the range [0,6]\n",
    "\n",
    "class Cells:\n",
    "    EMPTY = 0\n",
    "    WALL = 1\n",
    "    DOOR = 2\n",
    "    ENEMY = 3\n",
    "    TREASURE = 4\n",
    "    START = 5\n",
    "    END = 6\n",
    "\n",
    "def direct_get_empty_level():\n",
    "    level = [ [0] * LEVEL_SIZE for _ in range(LEVEL_SIZE)]\n",
    "    level[2][2] = Cells.START\n",
    "    level[LEVEL_SIZE - 2][LEVEL_SIZE - 2] = Cells.END\n",
    "    return level"
   ]
  },
  {
   "cell_type": "code",
   "execution_count": 46,
   "id": "8b2e25e1",
   "metadata": {
    "scrolled": true
   },
   "outputs": [],
   "source": [
    "# Indirect content representation:\n",
    "# List of rooms\n",
    "\n",
    "class Room:\n",
    "    def __init__(self, x, y, width, height, enemies, treasures):\n",
    "        self.x = x\n",
    "        self.y = y\n",
    "        self.width = width\n",
    "        self.height = height\n",
    "        self.enemies = []\n",
    "        self.treasures = []\n",
    "        \n",
    "def indirect_get_empty_level():\n",
    "    return []"
   ]
  },
  {
   "cell_type": "markdown",
   "id": "29f54277",
   "metadata": {},
   "source": [
    "Usually the more direct the representation the larger the search space, but it can result in more creative levels that are not confined by the assumptions made by the more indirect representations.\n",
    "\n",
    "#### Make sure you only run one of these two blocks."
   ]
  },
  {
   "cell_type": "markdown",
   "id": "e84785c9",
   "metadata": {},
   "source": [
    "## Evaluation function"
   ]
  },
  {
   "cell_type": "markdown",
   "id": "a210d8e1",
   "metadata": {},
   "source": [
    "The evaluation function takes an instance of a level and returns parameters that are used to compare level instances between them. Some examples of characteristics that could be considered would be: difficulty( which could be measured as no. of enemies per room) or explorability (which could be measured as no. of rooms).\n",
    "\n",
    "The evaluation function is tied to the content representation, since if the level is represented in a different format, the evaluation function won't know how to interpret it.\n",
    "\n",
    "For the direct content representation, an ideal number of walls, enemies and treasures has been defined. The number of enemies will dictate how difficult the level will be whereas the number of treasures can incentivise exploration. Another factor that will be measured will be the distance from the start to the end. The larger the distance the more the player will have to explore and if the distance is infinite, then it is impossible to finish the level so it should score lower.\n",
    "\n",
    "A couple helper functions have been defined: the first one is used to get valid neighbouring cells and the second one is the A* algorithm. These function will not be explained as they are outside the scope of this tutorial."
   ]
  },
  {
   "cell_type": "code",
   "execution_count": 47,
   "id": "236e083a",
   "metadata": {
    "scrolled": true
   },
   "outputs": [],
   "source": [
    "def get_neighbours(cell):\n",
    "    \"\"\"\n",
    "        Returns the cells the player can legally move to from the given position\n",
    "    \"\"\"\n",
    "    DIRECTIONS = [(1,0), (-1,0), (0,1), (0,-1)]\n",
    "    retval = []\n",
    "    for direction in DIRECTIONS:\n",
    "        next_cell = (cell[0] + direction[0], cell[1] + direction[1])\n",
    "\n",
    "        if next_cell[0] < 0 or next_cell[0] >= LEVEL_SIZE:\n",
    "            continue\n",
    "        if next_cell[1] < 0 or next_cell[1] >= LEVEL_SIZE:\n",
    "            continue\n",
    "            \n",
    "        retval.append(next_cell)\n",
    "    return retval"
   ]
  },
  {
   "cell_type": "code",
   "execution_count": 48,
   "id": "eabd0d36",
   "metadata": {
    "scrolled": true
   },
   "outputs": [],
   "source": [
    "def astar(level, start, destination):\n",
    "    \"\"\"\n",
    "        Returns the path from the start cell to the destination cell if it exists\n",
    "        Uses the A* algorithm\n",
    "    \"\"\"\n",
    "\n",
    "    # Since the player can only move in 4 directions, the Manhattan distance is enough\n",
    "    # instead of the Euclidian cheaper.\n",
    "    def heuristic(start, destination):\n",
    "        return abs(start[0] - destination[0]) + abs(start[1] - destination[1])\n",
    "\n",
    "    # Holds the cells where we came from.\n",
    "    previous_cells = {}\n",
    "\n",
    "    # Holds cells we have already visited\n",
    "    visited = set()\n",
    "\n",
    "    # Holds cells we need to visit (f(node) - estimated distance, g(node) - distance so far, prev_node - position we came from, node - current position)\n",
    "    queue = []\n",
    "    heapq.heappush(queue, (0, 0, start, start))\n",
    "\n",
    "    while queue:\n",
    "        estimated_distance, distance_travelled, previous_cell, cell = heapq.heappop(queue)\n",
    "\n",
    "        previous_cells[cell] = previous_cell\n",
    "\n",
    "        if cell in visited:\n",
    "            continue\n",
    "\n",
    "        if cell == destination:\n",
    "            break\n",
    "\n",
    "        visited.add(cell)\n",
    "\n",
    "        neighbours = get_neighbours(cell)\n",
    "        for next_cell in neighbours:\n",
    "            if next_cell in visited:\n",
    "                continue\n",
    "            \n",
    "            if level[next_cell[1]][next_cell[0]] in [Cells.WALL, Cells.TREASURE, Cells.DOOR]:\n",
    "                continue\n",
    "                \n",
    "            heapq.heappush(queue, (heuristic(next_cell, destination) + distance_travelled + 1, distance_travelled + 1, cell, next_cell))\n",
    "\n",
    "    if destination not in previous_cells:\n",
    "        return []\n",
    "\n",
    "    # Construct path from start to destination\n",
    "\n",
    "    path = []\n",
    "    curr_pos = destination\n",
    "    while curr_pos != start:\n",
    "        path.append(curr_pos)\n",
    "        curr_pos = previous_cells[curr_pos]\n",
    "    \n",
    "    return path"
   ]
  },
  {
   "cell_type": "markdown",
   "id": "21315109",
   "metadata": {},
   "source": [
    "Here is the code for the evaluation function for the direct representation:"
   ]
  },
  {
   "cell_type": "code",
   "execution_count": 49,
   "id": "e9d18976",
   "metadata": {
    "scrolled": true
   },
   "outputs": [],
   "source": [
    "def direct_evaluate(level):\n",
    "    \n",
    "    # We don't want to create too many walls as this will make some areas inaccesible and it also looks ugly\n",
    "    IDEAL_WALL_COUNT = 600\n",
    "    # How many treasures do we want per level (on average)\n",
    "    IDEAL_TREASURE_COUNT = 5\n",
    "    # How many enemies do we want per level (on average)\n",
    "    IDEAL_ENEMY_COUNT = 10\n",
    "\n",
    "    start_pos = None\n",
    "    end_pos = None\n",
    "    enemies = []\n",
    "    treasures = []\n",
    "    wall_count = 0\n",
    "\n",
    "    # Go through each cell in the level and count how many instances of each cell type do we have\n",
    "    for y in range(len(level)):\n",
    "        for x in range(len(level[y])):\n",
    "            \n",
    "            if level[y][x] == Cells.ENEMY:\n",
    "                    enemies.append((x,y))\n",
    "            elif level[y][x] == Cells.TREASURE:\n",
    "                    treasures.append((x,y))\n",
    "            elif level[y][x] == Cells.START:\n",
    "                    start_pos = (x,y)\n",
    "            elif level[y][x] == Cells.END:\n",
    "                    end_pos = (x,y)\n",
    "            elif level[y][x] == Cells.WALL:\n",
    "                    wall_count += 1\n",
    "    \n",
    "    # Find the path to the exit\n",
    "    path_to_victory = astar(level, start_pos, end_pos)\n",
    "\n",
    "    # Calculate our hieuristic\n",
    "    return len(path_to_victory) - \\\n",
    "            abs(IDEAL_WALL_COUNT - wall_count) - \\\n",
    "            abs((IDEAL_ENEMY_COUNT - len(enemies)) ** 2) - \\\n",
    "            abs((IDEAL_TREASURE_COUNT - len(treasures)) ** 2)"
   ]
  },
  {
   "cell_type": "markdown",
   "id": "b284bdb8",
   "metadata": {},
   "source": [
    "Some things to note:\n",
    " - We have set a limit on how many walls we want per level. This is to stop the algorithm from filling up the entire level, making some treasures and enemies inaccesible and greatly reducing explorability.<br><br>\n",
    " - The constants above have been found through experimentation<br><br>\n",
    " - The difference in the enemies and treasures has been raised to the power of two. This is to stop the algorithm from generating too many enemies but compensating for it by generating fewer treasures. Also it is acceptable to have one extra or fewer enemy, but if the algorithm tries to deviate too much from the ideal we want to punish it harder.<br><br>\n",
    " - The number of walls has NOT been raised to the power of two. This is because we can be more leniant on how many walls are generated and it will not interfere with the other two metrics since both have been raised to the power of two."
   ]
  },
  {
   "cell_type": "markdown",
   "id": "82fd63ed",
   "metadata": {},
   "source": [
    "For the indirect representation, we have set the number of rooms we want and the density of enemies and treasures we want per level."
   ]
  },
  {
   "cell_type": "code",
   "execution_count": 50,
   "id": "08a577a0",
   "metadata": {
    "scrolled": true
   },
   "outputs": [],
   "source": [
    "# https://www.jeffreythompson.org/collision-detection/rect-rect.php\n",
    "def are_rooms_colliding(room1, room2):\n",
    "    if room1.x <= room2.x + room2.width and \\\n",
    "        room1.x + room1.width >= room2.x and \\\n",
    "        room1.y <= room2.y + room2.height and \\\n",
    "        room1.y + room1.height >= room2.y:\n",
    "\n",
    "        return True\n",
    "    return False\n",
    "\n",
    "def density_error_function(ideal, actual):\n",
    "        return 3*(math.exp(abs(ideal - actual)*10)-1)\n",
    "\n",
    "def indirect_evaluate(level):\n",
    "\n",
    "    if len(level) == 0:\n",
    "        return 0\n",
    "\n",
    "    IDEAL_NO_OF_ROOMS = 9999    # Create as many rooms as you can\n",
    "    IDEAL_ENEMY_DENSITY = 1/(5*5)       # What fraction of the room should be enemies (2 enemies in a 5x5 room on average)\n",
    "    IDEAL_TREASURE_DENSITY = 0.5/(5*5)  # What fraction of the room should be covered in treasure chests (one treasure in every second 5x5 room)\n",
    "\n",
    "    # Rooms that are overlapping will be discarded\n",
    "    no_of_rooms = len(level)\n",
    "    enemy_density = 0\n",
    "    treasure_density = 0\n",
    "\n",
    "    # TODO: what about one room colliding with multiple\n",
    "    for room_index, room in enumerate(level):\n",
    "\n",
    "        for other_room in level[(room_index+1):]:\n",
    "            if are_rooms_colliding(room, other_room):\n",
    "                no_of_rooms -= 2\n",
    "                break\n",
    "        \n",
    "        # TODO: this does not take into consideration overlapping rooms\n",
    "        enemy_density += density_error_function(IDEAL_ENEMY_DENSITY, len(room.enemies) / (room.width * room.height))\n",
    "        treasure_density += density_error_function(IDEAL_TREASURE_DENSITY, len(room.treasures) / (room.width * room.height))\n",
    "\n",
    "    room_count_error = abs(IDEAL_NO_OF_ROOMS - max(no_of_rooms, 0)*4)\n",
    "\n",
    "    return 9999 - room_count_error - enemy_density / len(level) - treasure_density / len(level)"
   ]
  },
  {
   "cell_type": "markdown",
   "id": "acd2266f",
   "metadata": {},
   "source": [
    "The function called \"density error function\" is used to calculate the error for the two dnsities. We calculate the absolute value of the difference and we pass it through an exponential function. This is to punish the algorithm harder for deviating too much from the ideal densities. The constants the expression is being multiplied by were found through experimentation and are used to punish the algorithm more.\n",
    "\n",
    "We also punish the algorithm for placing rooms on top of each other. Instead of just punishing the algorithm for stacking levels, one could try to merge these rooms to create more interesting shapes, however this is left as an optional exercise to the reader.\n",
    "\n",
    "#### Make sure you only run the block for one of the evaluation functions."
   ]
  },
  {
   "cell_type": "markdown",
   "id": "33db2902",
   "metadata": {},
   "source": [
    "## Mutation function"
   ]
  },
  {
   "cell_type": "markdown",
   "id": "090a6044",
   "metadata": {},
   "source": [
    "The mutation function is responsible for creating variations in the levels. It is important that these variations are not too dramatic and that a mutation does not change its evaluation too much as this can effect the search algorithms ability to find a solution at all.\n",
    "\n",
    "### Direct Representation\n",
    "To mutate a level the book suggests creating a random 50x50 matrix, with each element taken from the N(0,1) distribution, however I chose to use a different approach, for more fine-grained control. Originally, this was intended to guide the mutation function to create structures that look like rooms, however this seemed to not work, instead it is now used to create layouts that seem like cave.\n",
    "\n",
    "There is a certain (predefined) probability, that a cell turns into a different one, just like in the book, however, the most notable difference is that these probabilities do not have to be the same and they can be adjusted, and that it is more likely that the mutation places a wall next to another wall, creating clusters and a more natural cave. "
   ]
  },
  {
   "cell_type": "code",
   "execution_count": 51,
   "id": "aba031f2",
   "metadata": {
    "scrolled": true
   },
   "outputs": [],
   "source": [
    "def direct_mutate_level(level):\n",
    "    new_level = [ [0] * LEVEL_SIZE for _ in range(LEVEL_SIZE)]\n",
    "\n",
    "    PROBABILITY = {\n",
    "        \"empty_to_wall_no_neighbour\": 0.001,\n",
    "        \"empty_to_wall_with_neighbour\": 0.1,\n",
    "        \"empty_to_treasure\": 0.0005,\n",
    "        \"empty_to_enemy\": 0.0005,\n",
    "        \"wall_to_empty\": 0.0005,\n",
    "        \"enemy_to_empty\": 0.0005,\n",
    "        \"treasure_to_empty\": 0.0005\n",
    "    }\n",
    "    \n",
    "    for y in range(len(level)):\n",
    "        for x in range(len(level[y])):\n",
    "            cell = level[y][x]\n",
    "\n",
    "            new_level[y][x] = cell\n",
    "            \n",
    "            if cell == Cells.EMPTY:\n",
    "                wall_neighbour_count = 0\n",
    "\n",
    "                for neighbour in get_neighbours((x,y)):\n",
    "                    if level[neighbour[1]][neighbour[0]] == Cells.WALL:\n",
    "                        wall_neighbour_count += 1\n",
    "\n",
    "                if wall_neighbour_count == 0:\n",
    "                    if random.random() < PROBABILITY[\"empty_to_wall_no_neighbour\"]:\n",
    "                        new_level[y][x] = Cells.WALL\n",
    "                else:\n",
    "                    if random.random() < PROBABILITY[\"empty_to_wall_with_neighbour\"]:\n",
    "                        new_level[y][x] = Cells.WALL\n",
    "                \n",
    "                # If the empty space has not turned into a wall,\n",
    "                # try turning it into treasure or an enemy\n",
    "                if new_level[y][x] == Cells.EMPTY:\n",
    "                    if random.random() < PROBABILITY[\"empty_to_treasure\"]:\n",
    "                        new_level[y][x] = Cells.TREASURE\n",
    "                    \n",
    "                    elif random.random() < PROBABILITY[\"empty_to_enemy\"]:\n",
    "                        new_level[y][x] = Cells.ENEMY\n",
    "\n",
    "            \n",
    "            if cell == Cells.WALL:\n",
    "                if random.random() < PROBABILITY[\"wall_to_empty\"]:\n",
    "                    new_level[y][x] = Cells.EMPTY\n",
    "            \n",
    "            if cell == Cells.ENEMY:\n",
    "                if random.random() < PROBABILITY[\"enemy_to_empty\"]:\n",
    "                    new_level[y][x] = Cells.EMPTY\n",
    "            \n",
    "            if cell == Cells.TREASURE:\n",
    "                if random.random() < PROBABILITY[\"treasure_to_empty\"]:\n",
    "                    new_level[y][x] = Cells.EMPTY\n",
    "\n",
    "    return new_level"
   ]
  },
  {
   "cell_type": "markdown",
   "id": "c611b5e2",
   "metadata": {},
   "source": [
    "This function simply adds or subtracts 1 from the position and dimensions of existing rooms randomly, and sometimes completely deletes or generates new rooms.\n",
    "\n",
    "The biggest headache with this mutation function was keeping the room in the map. All the min and max function make the code less readable, however they are essential in keeping the rooms inside the map."
   ]
  },
  {
   "cell_type": "code",
   "execution_count": 52,
   "id": "fd76c9ce",
   "metadata": {
    "scrolled": true
   },
   "outputs": [],
   "source": [
    "def is_point_in_room(point, room):\n",
    "    if room.x < point[0] and \\\n",
    "        point[0] < room.x + room.width and \\\n",
    "        room.y < point[1] and \\\n",
    "        point[1] < room.y + room.height:\n",
    "\n",
    "        return True\n",
    "    \n",
    "    return False\n",
    "\n",
    "def add_entity(room, array):\n",
    "    if random.random() < 0.5:\n",
    "        tries = 0\n",
    "        entity = (random.randrange(room.x + 1, room.x + room.width), random.randrange(room.y + 1, room.y + room.height))\n",
    "        while (entity in room.enemies or entity in room.treasures) and tries < 10:\n",
    "            entity = (random.randrange(room.x + 1, room.x + room.width), random.randrange(room.y + 1, room.y + room.height))\n",
    "            tries += 1\n",
    "        if tries < 10:\n",
    "            array.append(entity)\n",
    "    elif array and random.random() < 0.5:\n",
    "        del array[random.randrange(len(array))]\n",
    "\n",
    "def indirect_mutate_level(level):\n",
    "    new_level = []\n",
    "    for room in level:\n",
    "        # Random chance to delete this level\n",
    "        if random.random() < 0.05:\n",
    "            continue\n",
    "\n",
    "        room.x = min(max(0, room.x + random.randint(-1,1)), LEVEL_SIZE - room.width - 1)\n",
    "        room.y = min(max(0, room.y + random.randint(-1,1)), LEVEL_SIZE - room.height - 1)\n",
    "        room.width = max(min(room.width + random.randint(-1,1), LEVEL_SIZE - room.x - 1), 5)\n",
    "        room.height = max(min(room.height + random.randint(-1,1), LEVEL_SIZE - room.y - 1), 5)\n",
    "\n",
    "        # Make sure a mutation of the room did not leave us with a treasure or enemy outside of it\n",
    "        # If it did, remove them\n",
    "        enemies = []\n",
    "        treasures = []\n",
    "        for enemy in room.enemies:\n",
    "            if is_point_in_room(enemy, room):\n",
    "                enemies.append(enemy)\n",
    "        \n",
    "        for treasure in room.treasures:\n",
    "            if is_point_in_room(treasure, room):\n",
    "                treasures.append(treasure)\n",
    "\n",
    "        room.enemies = enemies\n",
    "        room.treasures = treasures\n",
    "\n",
    "        # Randomly add or remove an enemy\n",
    "        add_entity(room, room.enemies)\n",
    "\n",
    "        # Randomly add or remove a treasure\n",
    "        add_entity(room, room.treasures)\n",
    "\n",
    "        new_level.append(room)\n",
    "    \n",
    "    # Random chance to add new levels\n",
    "    if random.random() < 0.1:\n",
    "        width = random.randint(4,10)\n",
    "        height = random.randint(4,10)\n",
    "\n",
    "        room = Room(\n",
    "            random.randint(0,40),     # x\n",
    "            random.randint(0,40),     # y\n",
    "            width,                    # width\n",
    "            height,                   # height\n",
    "            [],                       # enemies\n",
    "            []                        # treasures\n",
    "        )\n",
    "\n",
    "        enemies = []\n",
    "        treasures = []\n",
    "\n",
    "        for _ in range(random.randrange(int(width * height / 8))):\n",
    "            add_entity(room, enemies)\n",
    "            room.enemies = enemies\n",
    "        \n",
    "        for _ in range(random.randrange(int(width * height / 8))):\n",
    "            add_entity(room, treasures)\n",
    "            room.treasures = treasures\n",
    "        \n",
    "        room.enemies = enemies\n",
    "        room.treasures = treasures\n",
    "\n",
    "        new_level.append(room)\n",
    "    \n",
    "    return new_level"
   ]
  },
  {
   "cell_type": "markdown",
   "id": "4df64784",
   "metadata": {},
   "source": [
    "## The result"
   ]
  },
  {
   "cell_type": "markdown",
   "id": "e14f9937",
   "metadata": {},
   "source": [
    "One last thing that we need to do before we can run our program is to set up a function that displays us the levels. Notice how for the direct representation, we just map the cell types to a color (could be a sprite from a spritesheet in a real game), however displaying a level encoded with the indirect representation is significantly harder."
   ]
  },
  {
   "cell_type": "code",
   "execution_count": 53,
   "id": "560bc06c",
   "metadata": {},
   "outputs": [],
   "source": [
    "CELL_REPRESENTATION = np.asarray([\n",
    "    (240, 240, 240),\n",
    "    (10, 10, 10),\n",
    "    (0, 0, 0),\n",
    "    (125, 63, 8),\n",
    "    (175, 21, 21),\n",
    "    (231, 218, 34),\n",
    "    (130, 34, 231),\n",
    "    (34, 231, 51)\n",
    "])\n",
    "\n",
    "labels =[\n",
    "    mpatches.Patch(color='black', label='Wall'),\n",
    "    mpatches.Patch(color='white', label='Empty'),\n",
    "    mpatches.Patch(color='yellow', label='Start'),\n",
    "    mpatches.Patch(color='purple', label='End'),\n",
    "    mpatches.Patch(color='red', label='Enemy'),\n",
    "    mpatches.Patch(color='brown', label='Treasure'),\n",
    "]"
   ]
  },
  {
   "cell_type": "code",
   "execution_count": 54,
   "id": "ab7ee3bd",
   "metadata": {},
   "outputs": [],
   "source": [
    "def direct_print_level(level):\n",
    "    img = CELL_REPRESENTATION[np.asarray(level)]\n",
    "    im = plt.imshow(img)\n",
    "    red_patch = mpatches.Patch(color='red', label='The red data')\n",
    "    plt.legend(handles=labels, bbox_to_anchor=(1.4, 1))\n",
    "    \n",
    "    update_display(im.figure, display_id=1)"
   ]
  },
  {
   "cell_type": "code",
   "execution_count": 55,
   "id": "f1dd85db",
   "metadata": {},
   "outputs": [],
   "source": [
    "def is_room_margin(point, room):\n",
    "    return (point[0] == room.x and point[1] >= room.y and point[1] <= room.y + room.height) or \\\n",
    "        (point[0] == room.x + room.width and point[1] >= room.y and point[1] <= room.y + room.height) or \\\n",
    "        (point[1] == room.y and point[0] >= room.x and point[0] <= room.x + room.width) or \\\n",
    "        (point[1] == room.y + room.height and point[0] >= room.x and point[0] <= room.x + room.width)\n",
    "\n",
    "def indirect_print_level(level):\n",
    "    \n",
    "    img = np.full((LEVEL_SIZE, LEVEL_SIZE, 3), 240, dtype=int)\n",
    "    \n",
    "    enemies = []\n",
    "    treasures = []\n",
    "\n",
    "    for room in level:\n",
    "        enemies += room.enemies\n",
    "        treasures += room.treasures\n",
    "    \n",
    "    for y in range(LEVEL_SIZE):\n",
    "        for x in range(LEVEL_SIZE):\n",
    "            if (x,y) in enemies:\n",
    "                img[x,y,:] = CELL_REPRESENTATION[3]\n",
    "                continue\n",
    "            \n",
    "            if (x,y) in treasures:\n",
    "                img[x,y,:] = CELL_REPRESENTATION[4]\n",
    "                continue\n",
    "            \n",
    "            is_wall = False\n",
    "            for room1 in level:\n",
    "                if (x == room1.x and y >= room1.y and y <= room1.y + room1.height) or \\\n",
    "                    (x == room1.x + room1.width and y >= room1.y and y <= room1.y + room1.height) or \\\n",
    "                    (y == room1.y and x >= room1.x and x <= room1.x + room1.width) or \\\n",
    "                    (y == room1.y + room1.height and x >= room1.x and x <= room1.x + room1.width):\n",
    "\n",
    "\n",
    "                    is_wall = True\n",
    "                    for room2 in level:\n",
    "                        if is_point_in_room((x,y), room2):\n",
    "                            is_wall = False\n",
    "                            break\n",
    "\n",
    "                    if not is_wall:\n",
    "                        break\n",
    "\n",
    "            if is_wall:\n",
    "                img[x,y,:] = CELL_REPRESENTATION[1]\n",
    "                continue\n",
    "    im = plt.imshow(img)\n",
    "    red_patch = mpatches.Patch(color='red', label='The red data')\n",
    "    plt.legend(handles=labels, bbox_to_anchor=(1.4, 1))\n",
    "    update_display(im.figure, display_id=1)"
   ]
  },
  {
   "cell_type": "markdown",
   "id": "fb78ebdf",
   "metadata": {},
   "source": [
    "Set RUN_DIRECT to true to use the direct representation or to false to use the indirect representation."
   ]
  },
  {
   "cell_type": "code",
   "execution_count": 60,
   "id": "df57ccd5",
   "metadata": {
    "scrolled": false
   },
   "outputs": [
    {
     "data": {
      "image/png": "[encoded data removed]",
      "text/plain": [
       "<Figure size 640x480 with 1 Axes>"
      ]
     },
     "metadata": {},
     "output_type": "display_data"
    },
    {
     "data": {
      "image/png": "[encoded data removed]",
      "text/plain": [
       "<Figure size 640x480 with 1 Axes>"
      ]
     },
     "metadata": {},
     "output_type": "display_data"
    }
   ],
   "source": [
    "RUN_DIRECT = False\n",
    "\n",
    "display([], display_id=1)\n",
    "if RUN_DIRECT:\n",
    "    main(direct_get_empty_level, direct_mutate_level, direct_evaluate, direct_print_level)\n",
    "else:\n",
    "    main(indirect_get_empty_level, indirect_mutate_level, indirect_evaluate, indirect_print_level)"
   ]
  },
  {
   "cell_type": "markdown",
   "id": "151f610b",
   "metadata": {},
   "source": [
    "The first thing to notice is how different the levels are. The levels generated by the indirect representations are what you would traditionally find in a dungeon crawler, however the ones generated by the direct representation look more like caves and have a more organic feel to them. Also notice the time it took to generate the levels: the direct representation was MUCH slower than the indirect one. We have deviated from the mutation function used in the book, however even if we were to use the same one, the indirect representation would still be faster since the search space is significantly smaller."
   ]
  }
 ],
 "metadata": {
  "kernelspec": {
   "display_name": "Python 3 (ipykernel)",
   "language": "python",
   "name": "python3"
  },
  "language_info": {
   "codemirror_mode": {
    "name": "ipython",
    "version": 3
   },
   "file_extension": ".py",
   "mimetype": "text/x-python",
   "name": "python",
   "nbconvert_exporter": "python",
   "pygments_lexer": "ipython3",
   "version": "3.9.18"
  }
 },
 "nbformat": 4,
 "nbformat_minor": 5
}
